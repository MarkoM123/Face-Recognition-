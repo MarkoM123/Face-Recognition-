{
 "cells": [
  {
   "cell_type": "code",
   "execution_count": 13,
   "metadata": {},
   "outputs": [
    {
     "name": "stdout",
     "output_type": "stream",
     "text": [
      "Result [False]\n"
     ]
    },
    {
     "data": {
      "text/plain": [
       "-1"
      ]
     },
     "execution_count": 13,
     "metadata": {},
     "output_type": "execute_result"
    }
   ],
   "source": [
    "import cv2\n",
    "import face_recognition\n",
    "\n",
    "image = cv2.imread(\"images/Jelena Gavrilovic.jpg\")\n",
    "rgb_image = cv2.cvtColor(image, cv2.COLOR_BGR2RGB)\n",
    "image_encoding = face_recognition.face_encodings(rgb_image)[0]\n",
    "\n",
    "image_2 = cv2.imread(\"images/Nikola Jokic.jpg\")\n",
    "rgb_image_2 = cv2.cvtColor(image_2, cv2.COLOR_BGR2RGB)\n",
    "image_encoding_2 = face_recognition.face_encodings(rgb_image_2)[0]\n",
    "\n",
    "result = face_recognition.compare_faces([image_encoding], image_encoding_2)\n",
    "print(\"Result\", result)\n",
    "\n",
    "\n",
    "cv2.imshow(\"Image\", image)\n",
    "cv2.imshow(\"Image_2\", image_2)\n",
    "cv2.waitKey(0)"
   ]
  },
  {
   "cell_type": "code",
   "execution_count": null,
   "metadata": {},
   "outputs": [],
   "source": []
  }
 ],
 "metadata": {
  "kernelspec": {
   "display_name": "Python 3",
   "language": "python",
   "name": "python3"
  },
  "language_info": {
   "codemirror_mode": {
    "name": "ipython",
    "version": 3
   },
   "file_extension": ".py",
   "mimetype": "text/x-python",
   "name": "python",
   "nbconvert_exporter": "python",
   "pygments_lexer": "ipython3",
   "version": "3.8.3"
  }
 },
 "nbformat": 4,
 "nbformat_minor": 4
}
